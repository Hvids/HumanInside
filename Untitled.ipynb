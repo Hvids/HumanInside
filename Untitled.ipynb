{
 "cells": [
  {
   "cell_type": "code",
   "execution_count": 1,
   "metadata": {},
   "outputs": [],
   "source": [
    "import pandas as pd\n",
    "import requests\n",
    "import re"
   ]
  },
  {
   "cell_type": "code",
   "execution_count": 57,
   "metadata": {},
   "outputs": [],
   "source": [
    "url = 'https://www.2do2go.ru/events/276048/myuzikl-vsamdelishnoe-priklyuchenie'\n",
    "# url = 'https://www.2do2go.ru/places/52999/kulturno-informacionnyi-centr-leonidovka'"
   ]
  },
  {
   "cell_type": "code",
   "execution_count": 58,
   "metadata": {},
   "outputs": [],
   "source": [
    "text = requests.get(url).text"
   ]
  },
  {
   "cell_type": "code",
   "execution_count": 59,
   "metadata": {},
   "outputs": [
    {
     "data": {
      "text/plain": [
       "['Мюзикл «Всамделишное приключение»']"
      ]
     },
     "execution_count": 59,
     "metadata": {},
     "output_type": "execute_result"
    }
   ],
   "source": [
    "reg = r'<div class=\"entity-info_title\" data-reactid=\".*?\">(.*?)</div>'\n",
    "re.findall(reg,text)"
   ]
  },
  {
   "cell_type": "code",
   "execution_count": 62,
   "metadata": {},
   "outputs": [
    {
     "data": {
      "text/plain": [
       "['«Сон, волшебных сказок сон» – именно с этих слов начинается большое приключение на загадочный остров «Нет-и-не-будет»! Братья Джон и Майкл, которые верят в чудеса, вместе с сестрой Венди отправятся на остров сказок, на котором их ждёт море увлечений и сюрпризов! Однажды ночью, когда после маминой колыбельной дети лягут спать, в их окно влетит озорной мальчишка Питер и научит детей парить в воздухе, их сны превратятся в реальность, и в их жизни все измениться! Герои нашей истории с помощью волшебной пыльцы феи Динь-Динь полетят на волшебный остров. Кажется, что каждый из них там уже бывал раньше, но только во снах. А теперь, воспарив, как птицы в небесах, они окажутся на острове чудес. Во время приключения их ждёт волшебный мир, наполненный разными странностями. Дикие звери, индейцы, загадочная, говорящая птица-Небылица, кровожадные пираты и другие необычные персонажи.']"
      ]
     },
     "execution_count": 62,
     "metadata": {},
     "output_type": "execute_result"
    }
   ],
   "source": [
    "reg = r'<div class=\"content_view content_view__text\" data-reactid=\".*?\">(.*?)</div>'\n",
    "re.findall(reg,text)"
   ]
  },
  {
   "cell_type": "code",
   "execution_count": 63,
   "metadata": {},
   "outputs": [
    {
     "data": {
      "text/plain": [
       "['/uploads/c410dba1b7b03389fa021bb19f4692a7_w100_h140.jpeg']"
      ]
     },
     "execution_count": 63,
     "metadata": {},
     "output_type": "execute_result"
    }
   ],
   "source": [
    "reg = r'<img class=\"image image__clickable entity-info_image\" src=\"(.*?)\"'\n",
    "re.findall(reg,text)"
   ]
  },
  {
   "cell_type": "code",
   "execution_count": 67,
   "metadata": {},
   "outputs": [
    {
     "data": {
      "text/plain": [
       "'<h3 class=\"sidebar-info_key\" data-reactid=\"753\">Город:</h3><div class=\"sidebar-info_value\" data-reactid=\"754\"><div data-reactid=\"755\"><!-- react-text: 756 -->Москва<!-- /react-text --><h3 class=\"sidebar-info_key\" data-reactid=\"758\">Ограничение по возрасту:</h3><div class=\"sidebar-info_value\" data-reactid=\"759\"><!-- react-text: 760 -->6<!-- /react-text --><!-- react-text: 761 -->+<!-- /react-text --><h3 class=\"sidebar-info_key\" data-reactid=\"763\">Цены на билеты:</h3><div class=\"sidebar-info_value\" data-reactid=\"764\">300 — 1500 руб.'"
      ]
     },
     "execution_count": 67,
     "metadata": {},
     "output_type": "execute_result"
    }
   ],
   "source": [
    "reg  = r'<div class=\"sidebar-info_row\" data-reactid=\".*?\">(.*?)</div>'\n",
    "t= \"\".join(re.findall(reg,text))\n",
    "t\n"
   ]
  },
  {
   "cell_type": "code",
   "execution_count": 70,
   "metadata": {},
   "outputs": [
    {
     "data": {
      "text/plain": [
       "['Москва']"
      ]
     },
     "execution_count": 70,
     "metadata": {},
     "output_type": "execute_result"
    }
   ],
   "source": [
    "reg = '<h3 class=\"sidebar-info_key\" data-reactid=\".*?\">Город:</h3><div class=\"sidebar-info_value\" data-reactid=\".*?\"><div data-reactid=\".*?\"><!-- react-text: .*? -->(.*?)<!--'\n",
    "re.findall(reg,t)"
   ]
  },
  {
   "cell_type": "code",
   "execution_count": 84,
   "metadata": {},
   "outputs": [],
   "source": [
    "reg = '<h3 class=\"sidebar-info_key\" data-reactid=\".*?\">Ограничение по возрасту:</h3><div class=\"sidebar-info_value\" data-reactid=\".*?\"><!-- react-text: .*? -->(.*?)<!-- /react-text --><!-- react-text: .*? -->(.*?)<!--'\n",
    "a = re.findall(reg,t)"
   ]
  },
  {
   "cell_type": "code",
   "execution_count": 94,
   "metadata": {},
   "outputs": [
    {
     "data": {
      "text/plain": [
       "'6+'"
      ]
     },
     "execution_count": 94,
     "metadata": {},
     "output_type": "execute_result"
    }
   ],
   "source": [
    "\"\".join(a[0])"
   ]
  },
  {
   "cell_type": "code",
   "execution_count": 83,
   "metadata": {},
   "outputs": [
    {
     "data": {
      "text/plain": [
       "['300 — 1500']"
      ]
     },
     "execution_count": 83,
     "metadata": {},
     "output_type": "execute_result"
    }
   ],
   "source": [
    "reg = r'data-reactid=\".*?\">Цены на билеты:</h3><div class=\"sidebar-info_value\" data-reactid=\".*?\">(.*?) руб'\n",
    "re.findall(reg,t)"
   ]
  },
  {
   "cell_type": "code",
   "execution_count": 99,
   "metadata": {},
   "outputs": [
    {
     "data": {
      "text/plain": [
       "['http://dk-october.ru/2020/04/мюзикл-всамделишное-приключение/']"
      ]
     },
     "execution_count": 99,
     "metadata": {},
     "output_type": "execute_result"
    }
   ],
   "source": [
    "    reg = '<li class=\"sidebar-info_list-item sidebar-info_list-item__overflowed\" data-reactid=\".*?\"><a href=\"(.*?)\" title'\n",
    "re.findall(reg,text)"
   ]
  },
  {
   "cell_type": "code",
   "execution_count": 110,
   "metadata": {},
   "outputs": [
    {
     "data": {
      "text/plain": [
       "['7 июня 2020']"
      ]
     },
     "execution_count": 110,
     "metadata": {},
     "output_type": "execute_result"
    }
   ],
   "source": [
    "reg ='<button type=\"button\" class=\"inline-datepicker_button button button__clean\" data-reactid=\"234\"><!-- react-text: 235 -->(.*?)<!--'\n",
    "re.findall(reg,text)"
   ]
  },
  {
   "cell_type": "code",
   "execution_count": 128,
   "metadata": {},
   "outputs": [],
   "source": [
    "url = 'https://www.2do2go.ru/places/35155/kulturnyy-centr-vdohnovenie'\n",
    "text = requests.get(url).text"
   ]
  },
  {
   "cell_type": "code",
   "execution_count": 129,
   "metadata": {},
   "outputs": [
    {
     "data": {
      "text/plain": [
       "['Культурный центр «Вдохновение»']"
      ]
     },
     "execution_count": 129,
     "metadata": {},
     "output_type": "execute_result"
    }
   ],
   "source": [
    "reg = r'<h1 class=\"entity-info_title\" data-reactid=\".*?\">(.*?)</h1>'\n",
    "re.findall(reg,text)"
   ]
  },
  {
   "cell_type": "code",
   "execution_count": 115,
   "metadata": {},
   "outputs": [
    {
     "data": {
      "text/plain": [
       "'asd asdd'"
      ]
     },
     "execution_count": 115,
     "metadata": {},
     "output_type": "execute_result"
    }
   ],
   "source": [
    "re.sub(r'\\s+', ' ','asd   asdd')"
   ]
  },
  {
   "cell_type": "code",
   "execution_count": 142,
   "metadata": {},
   "outputs": [
    {
     "data": {
      "text/plain": [
       "['-list\" data-reactid=\"212\"><div class=\"content-list_header\" data-reactid=\"213\"><div class=\"content-list_header-item\" data-reactid=\"214\"><div class=\"content-list_title\" data-reactid=\"215\">События',\n",
       " '-list_header-item\" data-reactid=\"216\"><div class=\"tab-nav\" data-reactid=\"217\"><button class=\"button button__clean tab-nav_item tab-nav_item__active\" type=\"button\" data-reactid=\"218\">Прошедшие (320)</button><button class=\"button button__clean tab-nav_item\" type=\"button\" data-reactid=\"219\">Будущие (0)</button>',\n",
       " '-list_item\" data-reactid=\"220\"><div class=\"content-list_item-info\" data-reactid=\"221\"><div class=\"media-preview\" data-reactid=\"222\"><a class=\"media-preview_img-wrap\" href=\"/events/285670/programma-letnyaya-tvorcheskaya-rezidenciya-teatr\" data-reactid=\"223\"><img src=\"/uploads/df8f99730b8b82f75a85ef1efe9c88fd_w50_h50.jpeg\" alt=\"Программа «Летняя творческая резиденция. Театр»\" class=\"media-preview_img\" style=\"background-color:#9a9699;\" data-reactid=\"224\"/></a><div class=\"media-preview_info\" data-reactid=\"225\"><a class=\"media-preview_name\" href=\"/events/285670/programma-letnyaya-tvorcheskaya-rezidenciya-teatr\" data-reactid=\"226\">Программа «Летняя творческая резиденция. Театр»</a><a class=\"media-preview_description\" href=\"/events/285670/programma-letnyaya-tvorcheskaya-rezidenciya-teatr\" data-reactid=\"227\">с 17 августа по 28 августа</a>',\n",
       " '-list_item-description\" data-reactid=\"228\">Интеллектуальные интерактивные летние смены для детей от 8 до 12 лет.',\n",
       " '-list_item\" data-reactid=\"229\"><div class=\"content-list_item-info\" data-reactid=\"230\"><div class=\"media-preview\" data-reactid=\"231\"><a class=\"media-preview_img-wrap\" href=\"/events/284588/programma-letnyaya-tvorcheskaya-rezidenciya-tanec\" data-reactid=\"232\"><img src=\"/uploads/589a909628e127e4ff08c0a23b2cd610_w50_h50.jpeg\" alt=\"Программа «Летняя творческая резиденция. Танец»\" class=\"media-preview_img\" style=\"background-color:#58291f;\" data-reactid=\"233\"/></a><div class=\"media-preview_info\" data-reactid=\"234\"><a class=\"media-preview_name\" href=\"/events/284588/programma-letnyaya-tvorcheskaya-rezidenciya-tanec\" data-reactid=\"235\">Программа «Летняя творческая резиденция. Танец»</a><a class=\"media-preview_description\" href=\"/events/284588/programma-letnyaya-tvorcheskaya-rezidenciya-tanec\" data-reactid=\"236\">с 17 августа по 28 августа</a>',\n",
       " '-list_item-description\" data-reactid=\"237\">Интеллектуальные интерактивные летние смены для детей от 8 до 12 лет.',\n",
       " '-list_item\" data-reactid=\"238\"><div class=\"content-list_item-info\" data-reactid=\"239\"><div class=\"media-preview\" data-reactid=\"240\"><a class=\"media-preview_img-wrap\" href=\"/events/284587/programma-letnyaya-tvorcheskaya-rezidenciya-nauka\" data-reactid=\"241\"><img src=\"/uploads/142091879616ae7514c10ddb176c4a6e_w50_h50.jpeg\" alt=\"Программа «Летняя творческая резиденция. Наука»\" class=\"media-preview_img\" style=\"background-color:#716b5f;\" data-reactid=\"242\"/></a><div class=\"media-preview_info\" data-reactid=\"243\"><a class=\"media-preview_name\" href=\"/events/284587/programma-letnyaya-tvorcheskaya-rezidenciya-nauka\" data-reactid=\"244\">Программа «Летняя творческая резиденция. Наука»</a><a class=\"media-preview_description\" href=\"/events/284587/programma-letnyaya-tvorcheskaya-rezidenciya-nauka\" data-reactid=\"245\">с 17 августа по 28 августа</a>',\n",
       " '-list_item-description\" data-reactid=\"246\">Интеллектуальные интерактивные летние смены для детей от 8 до 12 лет.',\n",
       " '-list_item\" data-reactid=\"247\"><div class=\"content-list_item-info\" data-reactid=\"248\"><div class=\"media-preview\" data-reactid=\"249\"><a class=\"media-preview_img-wrap\" href=\"/events/285671/programma-letnyaya-tvorcheskaya-rezidenciya-art\" data-reactid=\"250\"><img src=\"/uploads/5dd964d619f6b6b62eca1fdcfad04d04_w50_h50.jpeg\" alt=\"Программа «Летняя творческая резиденция. Арт»\" class=\"media-preview_img\" style=\"background-color:#b29f91;\" data-reactid=\"251\"/></a><div class=\"media-preview_info\" data-reactid=\"252\"><a class=\"media-preview_name\" href=\"/events/285671/programma-letnyaya-tvorcheskaya-rezidenciya-art\" data-reactid=\"253\">Программа «Летняя творческая резиденция. Арт»</a><a class=\"media-preview_description\" href=\"/events/285671/programma-letnyaya-tvorcheskaya-rezidenciya-art\" data-reactid=\"254\">с 3 августа по 14 августа</a>',\n",
       " '-list_item-description\" data-reactid=\"255\">Интеллектуальные интерактивные летние смены для детей от 8 до 12 лет.',\n",
       " '-list_item\" data-reactid=\"256\"><div class=\"content-list_item-info\" data-reactid=\"257\"><div class=\"media-preview\" data-reactid=\"258\"><a class=\"media-preview_img-wrap\" href=\"/events/284984/programma-letnyaya-tvorcheskaya-rezidenciya-tanec\" data-reactid=\"259\"><img src=\"/uploads/867f2d34ce40f6acb7334a3152152156_w50_h50.jpeg\" alt=\"Программа «Летняя творческая резиденция. Танец»\" class=\"media-preview_img\" style=\"background-color:#a19a90;\" data-reactid=\"260\"/></a><div class=\"media-preview_info\" data-reactid=\"261\"><a class=\"media-preview_name\" href=\"/events/284984/programma-letnyaya-tvorcheskaya-rezidenciya-tanec\" data-reactid=\"262\">Программа «Летняя творческая резиденция. Танец»</a><a class=\"media-preview_description\" href=\"/events/284984/programma-letnyaya-tvorcheskaya-rezidenciya-tanec\" data-reactid=\"263\">с 3 августа по 14 августа</a>',\n",
       " '-list_item-description\" data-reactid=\"264\">Интеллектуальные интерактивные летние смены для детей возрастом от 8 до 12 лет.',\n",
       " '-list_more\" data-reactid=\"265\"><button type=\"button\" class=\"content-list_more-link button button__clean\" data-reactid=\"266\"><span data-reactid=\"267\"><!-- react-text: 268 -->Показать еще<!-- /react-text --><!-- react-text: 269 --> <!-- /react-text --><!-- react-text: 270 -->5<!-- /react-text --><!-- react-text: 271 --> <!-- /react-text --><!-- react-text: 272 -->из <!-- /react-text --><!-- react-text: 273 -->315<!-- /react-text --></span></button>']"
      ]
     },
     "execution_count": 142,
     "metadata": {},
     "output_type": "execute_result"
    }
   ],
   "source": [
    "reg = r'<div class=\"content(.*?)</div>'\n",
    "re.findall(reg,text)"
   ]
  },
  {
   "cell_type": "code",
   "execution_count": 145,
   "metadata": {},
   "outputs": [],
   "source": [
    "from copy import deepcopy\n",
    "import pandas as pd\n",
    "from PIL import Image\n",
    "import requests\n",
    "from io import BytesIO\n",
    "\n",
    "url=\"https://www.2do2go.ru/uploads/358057ac911e7acf1c51148f4f51bd07_w500_h500.jpg\"\n",
    "id = 1\n",
    "response = requests.get(url)\n",
    "img = Image.open(BytesIO(response.content))\n",
    "img.convert('RGB').save('./' + str(id) + '.png', \"PNG\", optimize=True)"
   ]
  },
  {
   "cell_type": "code",
   "execution_count": null,
   "metadata": {},
   "outputs": [],
   "source": []
  },
  {
   "cell_type": "code",
   "execution_count": null,
   "metadata": {},
   "outputs": [],
   "source": []
  }
 ],
 "metadata": {
  "kernelspec": {
   "display_name": "Python 3",
   "language": "python",
   "name": "python3"
  },
  "language_info": {
   "codemirror_mode": {
    "name": "ipython",
    "version": 3
   },
   "file_extension": ".py",
   "mimetype": "text/x-python",
   "name": "python",
   "nbconvert_exporter": "python",
   "pygments_lexer": "ipython3",
   "version": "3.7.3"
  }
 },
 "nbformat": 4,
 "nbformat_minor": 2
}
