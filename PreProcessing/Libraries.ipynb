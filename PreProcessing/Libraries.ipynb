{
 "cells": [
  {
   "cell_type": "code",
   "execution_count": 1,
   "metadata": {},
   "outputs": [],
   "source": [
    "import pandas as pd"
   ]
  },
  {
   "cell_type": "code",
   "execution_count": 2,
   "metadata": {},
   "outputs": [],
   "source": [
    "path = '../data/csv/'\n",
    "name_lib = 'libraries.csv'"
   ]
  },
  {
   "cell_type": "code",
   "execution_count": 4,
   "metadata": {},
   "outputs": [],
   "source": [
    "df_lib = pd.read_csv(path+name_lib)"
   ]
  },
  {
   "cell_type": "code",
   "execution_count": 6,
   "metadata": {},
   "outputs": [
    {
     "name": "stdout",
     "output_type": "stream",
     "text": [
      "<class 'pandas.core.frame.DataFrame'>\n",
      "RangeIndex: 476 entries, 0 to 475\n",
      "Data columns (total 15 columns):\n",
      "id                 476 non-null int64\n",
      "name               476 non-null object\n",
      "type               476 non-null object\n",
      "region             476 non-null object\n",
      "location           476 non-null object\n",
      "adress             476 non-null object\n",
      "latitude           476 non-null float64\n",
      "longitude          476 non-null float64\n",
      "number             434 non-null object\n",
      "site               390 non-null object\n",
      "email              326 non-null object\n",
      "social_networks    153 non-null object\n",
      "time_work          440 non-null object\n",
      "img_url            476 non-null object\n",
      "content            417 non-null object\n",
      "dtypes: float64(2), int64(1), object(12)\n",
      "memory usage: 55.9+ KB\n"
     ]
    }
   ],
   "source": [
    "df_lib.info()"
   ]
  },
  {
   "cell_type": "code",
   "execution_count": 8,
   "metadata": {},
   "outputs": [
    {
     "data": {
      "text/html": [
       "<div>\n",
       "<style scoped>\n",
       "    .dataframe tbody tr th:only-of-type {\n",
       "        vertical-align: middle;\n",
       "    }\n",
       "\n",
       "    .dataframe tbody tr th {\n",
       "        vertical-align: top;\n",
       "    }\n",
       "\n",
       "    .dataframe thead th {\n",
       "        text-align: right;\n",
       "    }\n",
       "</style>\n",
       "<table border=\"1\" class=\"dataframe\">\n",
       "  <thead>\n",
       "    <tr style=\"text-align: right;\">\n",
       "      <th></th>\n",
       "      <th>id</th>\n",
       "      <th>name</th>\n",
       "      <th>type</th>\n",
       "      <th>region</th>\n",
       "      <th>location</th>\n",
       "      <th>adress</th>\n",
       "      <th>latitude</th>\n",
       "      <th>longitude</th>\n",
       "      <th>number</th>\n",
       "      <th>site</th>\n",
       "      <th>email</th>\n",
       "      <th>social_networks</th>\n",
       "      <th>time_work</th>\n",
       "      <th>img_url</th>\n",
       "      <th>content</th>\n",
       "    </tr>\n",
       "  </thead>\n",
       "  <tbody>\n",
       "    <tr>\n",
       "      <th>0</th>\n",
       "      <td>0</td>\n",
       "      <td>Российская государственная библиотека</td>\n",
       "      <td>Библиотека</td>\n",
       "      <td>Москва</td>\n",
       "      <td>Москва</td>\n",
       "      <td>г. Москва, ул. Воздвиженка, д. 3/5</td>\n",
       "      <td>55.751647</td>\n",
       "      <td>37.608712</td>\n",
       "      <td>+7 (499) 557-04-70</td>\n",
       "      <td>http://www.rsl.ru</td>\n",
       "      <td>post@rsl.ru</td>\n",
       "      <td>http://vk.com/leninka_ru https://www.facebook....</td>\n",
       "      <td>пн: 09:00 - 20:00, вт: 09:00 - 20:00, ср: 09:0...</td>\n",
       "      <td>https://b1.culture.ru/c/305358.jpg</td>\n",
       "      <td>Российская государственная библиотека – крупне...</td>\n",
       "    </tr>\n",
       "    <tr>\n",
       "      <th>1</th>\n",
       "      <td>1</td>\n",
       "      <td>Политехническая библиотека</td>\n",
       "      <td>Библиотека</td>\n",
       "      <td>Москва</td>\n",
       "      <td>Москва</td>\n",
       "      <td>г. Москва, Волгоградский пр-кт., д. 42</td>\n",
       "      <td>55.709282</td>\n",
       "      <td>37.721687</td>\n",
       "      <td>+7 (495) 780-60-26</td>\n",
       "      <td>https://polymus.ru/ru/museum/library</td>\n",
       "      <td>cz1@polymus.ru</td>\n",
       "      <td>NaN</td>\n",
       "      <td>пн: выходной, вт: 10:00 - 16:00, ср: выходной,...</td>\n",
       "      <td>https://b1.culture.ru/c/305352.jpg</td>\n",
       "      <td>В 2013 году после закрытия исторического здани...</td>\n",
       "    </tr>\n",
       "    <tr>\n",
       "      <th>2</th>\n",
       "      <td>2</td>\n",
       "      <td>Государственная публичная научно-техническая б...</td>\n",
       "      <td>Библиотека</td>\n",
       "      <td>Москва</td>\n",
       "      <td>Москва</td>\n",
       "      <td>г. Москва, ул. Хорошёвская 3-я, д. 17</td>\n",
       "      <td>55.783428</td>\n",
       "      <td>37.499794</td>\n",
       "      <td>+7 (495) 698-93-05</td>\n",
       "      <td>http://www.gpntb.ru</td>\n",
       "      <td>gpntb@gpntb.ru</td>\n",
       "      <td>https://new.vk.com/gpntb.russia https://www.fa...</td>\n",
       "      <td>пн: 10:00 - 20:00, вт: 10:00 - 20:00, ср: 10:0...</td>\n",
       "      <td>https://b1.culture.ru/c/280639.jpg</td>\n",
       "      <td>Государственная публичная научно-техническая б...</td>\n",
       "    </tr>\n",
       "    <tr>\n",
       "      <th>3</th>\n",
       "      <td>3</td>\n",
       "      <td>Российская государственная библиотека для моло...</td>\n",
       "      <td>Библиотека</td>\n",
       "      <td>Москва</td>\n",
       "      <td>Москва</td>\n",
       "      <td>г. Москва, ул. Черкизовская Б., д. 4</td>\n",
       "      <td>55.795948</td>\n",
       "      <td>37.718355</td>\n",
       "      <td>+7 (499) 922-66-77 (для справок)</td>\n",
       "      <td>http://www.rgub.ru</td>\n",
       "      <td>info@rgub.ru</td>\n",
       "      <td>http://vk.com/rgubru https://www.facebook.com/...</td>\n",
       "      <td>пн: 11:00 - 22:00, вт: 11:00 - 22:00, ср: 11:0...</td>\n",
       "      <td>https://b1.culture.ru/c/305236.jpg</td>\n",
       "      <td>Российская государственная библиотека для моло...</td>\n",
       "    </tr>\n",
       "    <tr>\n",
       "      <th>4</th>\n",
       "      <td>4</td>\n",
       "      <td>Российская государственная библиотека искусств</td>\n",
       "      <td>Библиотека</td>\n",
       "      <td>Москва</td>\n",
       "      <td>Москва</td>\n",
       "      <td>г. Москва, ул. Дмитровка Б., д. 8/1</td>\n",
       "      <td>55.760920</td>\n",
       "      <td>37.615919</td>\n",
       "      <td>+7 (495) 692-06-53 (секретарь, научно-методиче...</td>\n",
       "      <td>http://www.liart.ru</td>\n",
       "      <td>bisk@liart.ru</td>\n",
       "      <td>http://vk.com/artlibrary https://www.facebook....</td>\n",
       "      <td>пн: 11:00 - 19:00, вт: 11:00 - 19:00, ср: 11:0...</td>\n",
       "      <td>https://b1.culture.ru/c/524319.jpg</td>\n",
       "      <td>Российская государственная библиотека искусств...</td>\n",
       "    </tr>\n",
       "  </tbody>\n",
       "</table>\n",
       "</div>"
      ],
      "text/plain": [
       "   id                                               name        type  region  \\\n",
       "0   0              Российская государственная библиотека  Библиотека  Москва   \n",
       "1   1                         Политехническая библиотека  Библиотека  Москва   \n",
       "2   2  Государственная публичная научно-техническая б...  Библиотека  Москва   \n",
       "3   3  Российская государственная библиотека для моло...  Библиотека  Москва   \n",
       "4   4     Российская государственная библиотека искусств  Библиотека  Москва   \n",
       "\n",
       "  location                                  adress   latitude  longitude  \\\n",
       "0   Москва      г. Москва, ул. Воздвиженка, д. 3/5  55.751647  37.608712   \n",
       "1   Москва  г. Москва, Волгоградский пр-кт., д. 42  55.709282  37.721687   \n",
       "2   Москва   г. Москва, ул. Хорошёвская 3-я, д. 17  55.783428  37.499794   \n",
       "3   Москва    г. Москва, ул. Черкизовская Б., д. 4  55.795948  37.718355   \n",
       "4   Москва     г. Москва, ул. Дмитровка Б., д. 8/1  55.760920  37.615919   \n",
       "\n",
       "                                              number  \\\n",
       "0                                 +7 (499) 557-04-70   \n",
       "1                                 +7 (495) 780-60-26   \n",
       "2                                 +7 (495) 698-93-05   \n",
       "3                   +7 (499) 922-66-77 (для справок)   \n",
       "4  +7 (495) 692-06-53 (секретарь, научно-методиче...   \n",
       "\n",
       "                                   site           email  \\\n",
       "0                     http://www.rsl.ru     post@rsl.ru   \n",
       "1  https://polymus.ru/ru/museum/library  cz1@polymus.ru   \n",
       "2                   http://www.gpntb.ru  gpntb@gpntb.ru   \n",
       "3                    http://www.rgub.ru    info@rgub.ru   \n",
       "4                   http://www.liart.ru   bisk@liart.ru   \n",
       "\n",
       "                                     social_networks  \\\n",
       "0  http://vk.com/leninka_ru https://www.facebook....   \n",
       "1                                                NaN   \n",
       "2  https://new.vk.com/gpntb.russia https://www.fa...   \n",
       "3  http://vk.com/rgubru https://www.facebook.com/...   \n",
       "4  http://vk.com/artlibrary https://www.facebook....   \n",
       "\n",
       "                                           time_work  \\\n",
       "0  пн: 09:00 - 20:00, вт: 09:00 - 20:00, ср: 09:0...   \n",
       "1  пн: выходной, вт: 10:00 - 16:00, ср: выходной,...   \n",
       "2  пн: 10:00 - 20:00, вт: 10:00 - 20:00, ср: 10:0...   \n",
       "3  пн: 11:00 - 22:00, вт: 11:00 - 22:00, ср: 11:0...   \n",
       "4  пн: 11:00 - 19:00, вт: 11:00 - 19:00, ср: 11:0...   \n",
       "\n",
       "                              img_url  \\\n",
       "0  https://b1.culture.ru/c/305358.jpg   \n",
       "1  https://b1.culture.ru/c/305352.jpg   \n",
       "2  https://b1.culture.ru/c/280639.jpg   \n",
       "3  https://b1.culture.ru/c/305236.jpg   \n",
       "4  https://b1.culture.ru/c/524319.jpg   \n",
       "\n",
       "                                             content  \n",
       "0  Российская государственная библиотека – крупне...  \n",
       "1  В 2013 году после закрытия исторического здани...  \n",
       "2  Государственная публичная научно-техническая б...  \n",
       "3  Российская государственная библиотека для моло...  \n",
       "4  Российская государственная библиотека искусств...  "
      ]
     },
     "execution_count": 8,
     "metadata": {},
     "output_type": "execute_result"
    }
   ],
   "source": [
    "df_lib.head()"
   ]
  },
  {
   "cell_type": "code",
   "execution_count": 9,
   "metadata": {},
   "outputs": [
    {
     "data": {
      "text/plain": [
       "array(['Библиотека', 'Музей'], dtype=object)"
      ]
     },
     "execution_count": 9,
     "metadata": {},
     "output_type": "execute_result"
    }
   ],
   "source": [
    "df_lib.type.unique()"
   ]
  },
  {
   "cell_type": "code",
   "execution_count": 16,
   "metadata": {},
   "outputs": [
    {
     "data": {
      "text/plain": [
       "array(['Москва', 'Зеленоградский административный округ'], dtype=object)"
      ]
     },
     "execution_count": 16,
     "metadata": {},
     "output_type": "execute_result"
    }
   ],
   "source": [
    "df_lib.location.unique()"
   ]
  },
  {
   "cell_type": "code",
   "execution_count": 14,
   "metadata": {},
   "outputs": [],
   "source": []
  },
  {
   "cell_type": "code",
   "execution_count": 15,
   "metadata": {},
   "outputs": [
    {
     "data": {
      "text/plain": [
       "0      пн: 09:00 - 20:00, вт: 09:00 - 20:00, ср: 09:0...\n",
       "1      пн: выходной, вт: 10:00 - 16:00, ср: выходной,...\n",
       "2      пн: 10:00 - 20:00, вт: 10:00 - 20:00, ср: 10:0...\n",
       "3      пн: 11:00 - 22:00, вт: 11:00 - 22:00, ср: 11:0...\n",
       "4      пн: 11:00 - 19:00, вт: 11:00 - 19:00, ср: 11:0...\n",
       "5      пн: 11:00 - 21:00, вт: 11:00 - 21:00, ср: 11:0...\n",
       "6      пн: 09:00 - 21:00, вт: 09:00 - 21:00, ср: 09:0...\n",
       "7      пн: 10:00 - 18:00, вт: 10:00 - 18:00, ср: 10:0...\n",
       "8                                                    NaN\n",
       "9      пн: 09:00 - 20:00, вт: 09:00 - 20:00, ср: 09:0...\n",
       "10     пн: 11:00 - 21:00, вт: 11:00 - 21:00, ср: 11:0...\n",
       "11     пн: выходной, вт: 10:00 - 22:00, ср: 10:00 - 2...\n",
       "12     пн: выходной, вт: 10:00 - 22:00, ср: 10:00 - 2...\n",
       "13     пн: выходной, вт: 10:00 - 22:00, ср: 10:00 - 2...\n",
       "14     пн: выходной, вт: 10:00 - 21:00, ср: 10:00 - 2...\n",
       "15     пн: выходной, вт: 12:00 - 22:00, ср: 12:00 - 2...\n",
       "16     пн: выходной, вт: 10:00 - 21:00, ср: 10:00 - 2...\n",
       "17     пн: выходной, вт: 10:00 - 21:00, ср: 10:00 - 2...\n",
       "18     пн: выходной, вт: 10:00 - 21:00, ср: 10:00 - 2...\n",
       "19     пн: 10:00 - 20:00, вт: 10:00 - 20:00, ср: 10:0...\n",
       "20     пн: выходной, вт: 10:00 - 22:00, ср: 10:00 - 2...\n",
       "21     пн: выходной, вт: 10:00 - 21:00, ср: 10:00 - 2...\n",
       "22     пн: 10:00 - 18:00, вт: 10:00 - 18:00, ср: 10:0...\n",
       "23     пн: выходной, вт: 10:00 - 22:00, ср: 10:00 - 2...\n",
       "24     пн: выходной, вт: 10:00 - 22:00, ср: 10:00 - 2...\n",
       "25     пн: выходной, вт: 10:00 - 22:00, ср: 10:00 - 2...\n",
       "26     пн: выходной, вт: 12:00 - 22:00, ср: 12:00 - 2...\n",
       "27     пн: выходной, вт: 12:00 - 22:00, ср: 12:00 - 2...\n",
       "28     пн: выходной, вт: 10:00 - 22:00, ср: 10:00 - 2...\n",
       "29     пн: выходной, вт: 10:00 - 22:00, ср: 10:00 - 2...\n",
       "                             ...                        \n",
       "446    пн: выходной, вт: 10:00 - 22:00, ср: 10:00 - 2...\n",
       "447    пн: выходной, вт: 11:00 - 19:30, ср: 11:00 - 1...\n",
       "448    пн: выходной, вт: 12:00 - 22:00, ср: 12:00 - 2...\n",
       "449    пн: выходной, вт: 15:00 - 19:00, ср: 15:00 - 1...\n",
       "450    пн: 12:00 - 19:00, вт: 12:00 - 19:00, ср: 12:0...\n",
       "451    пн: выходной, вт: 11:00 - 19:30, ср: 11:00 - 1...\n",
       "452                                                  NaN\n",
       "453                                                  NaN\n",
       "454    пн: выходной, вт: 10:00 - 22:00, ср: 10:00 - 2...\n",
       "455    пн: выходной, вт: 11:00 - 19:30, ср: 11:00 - 1...\n",
       "456    пн: выходной, вт: 12:00 - 22:00, ср: 12:00 - 2...\n",
       "457    пн: выходной, вт: 11:00 - 19:30, ср: 11:00 - 1...\n",
       "458    пн: выходной, вт: 12:00 - 20:00, ср: 12:00 - 2...\n",
       "459    пн: выходной, вт: 10:00 - 21:00, ср: 10:00 - 2...\n",
       "460                                                  NaN\n",
       "461    пн: 10:00 - 18:00, вт: 10:00 - 18:00, ср: 10:0...\n",
       "462                                                  NaN\n",
       "463                                                  NaN\n",
       "464    пн: выходной, вт: 11:00 - 19:30, ср: 11:00 - 1...\n",
       "465                                                  NaN\n",
       "466    пн: выходной, вт: 10:00 - 22:00, ср: 10:00 - 2...\n",
       "467    пн: выходной, вт: 15:00 - 19:00, ср: 15:00 - 1...\n",
       "468    пн: выходной, вт: 12:00 - 21:00, ср: 12:00 - 2...\n",
       "469    пн: выходной, вт: 11:00 - 19:30, ср: 11:00 - 1...\n",
       "470    пн: выходной, вт: 10:00 - 22:00, ср: 10:00 - 2...\n",
       "471    пн: выходной, вт: 10:00 - 21:00, ср: 10:00 - 2...\n",
       "472    пн: выходной, вт: 11:00 - 19:30, ср: 11:00 - 1...\n",
       "473    пн: выходной, вт: 10:00 - 22:00, ср: 10:00 - 2...\n",
       "474    пн: выходной, вт: 11:00 - 19:30, ср: 11:00 - 1...\n",
       "475    пн: выходной, вт: 11:00 - 19:10, ср: 11:00 - 1...\n",
       "Name: time_work, Length: 476, dtype: object"
      ]
     },
     "execution_count": 15,
     "metadata": {},
     "output_type": "execute_result"
    }
   ],
   "source": []
  },
  {
   "cell_type": "code",
   "execution_count": null,
   "metadata": {},
   "outputs": [],
   "source": []
  }
 ],
 "metadata": {
  "kernelspec": {
   "display_name": "Python 3",
   "language": "python",
   "name": "python3"
  },
  "language_info": {
   "codemirror_mode": {
    "name": "ipython",
    "version": 3
   },
   "file_extension": ".py",
   "mimetype": "text/x-python",
   "name": "python",
   "nbconvert_exporter": "python",
   "pygments_lexer": "ipython3",
   "version": "3.7.3"
  }
 },
 "nbformat": 4,
 "nbformat_minor": 2
}
