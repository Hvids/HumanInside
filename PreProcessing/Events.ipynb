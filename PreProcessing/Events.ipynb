{
 "cells": [
  {
   "cell_type": "code",
   "execution_count": 1,
   "metadata": {},
   "outputs": [],
   "source": [
    "import pandas as pd"
   ]
  },
  {
   "cell_type": "code",
   "execution_count": 2,
   "metadata": {},
   "outputs": [],
   "source": [
    "path = '../data/csv/'\n",
    "name_lib = 'events.csv'"
   ]
  },
  {
   "cell_type": "code",
   "execution_count": 3,
   "metadata": {},
   "outputs": [],
   "source": [
    "df = pd.read_csv(path+name_lib)"
   ]
  },
  {
   "cell_type": "code",
   "execution_count": 5,
   "metadata": {},
   "outputs": [
    {
     "name": "stdout",
     "output_type": "stream",
     "text": [
      "<class 'pandas.core.frame.DataFrame'>\n",
      "RangeIndex: 836 entries, 0 to 835\n",
      "Data columns (total 10 columns):\n",
      "id             836 non-null int64\n",
      "name           836 non-null object\n",
      "site_buy       152 non-null object\n",
      "date           826 non-null object\n",
      "town           836 non-null object\n",
      "price          361 non-null object\n",
      "age            836 non-null object\n",
      "img_url        836 non-null object\n",
      "content        506 non-null object\n",
      "id_cultural    836 non-null int64\n",
      "dtypes: int64(2), object(8)\n",
      "memory usage: 65.4+ KB\n"
     ]
    }
   ],
   "source": [
    "df.info()"
   ]
  },
  {
   "cell_type": "code",
   "execution_count": 7,
   "metadata": {},
   "outputs": [
    {
     "data": {
      "text/html": [
       "<div>\n",
       "<style scoped>\n",
       "    .dataframe tbody tr th:only-of-type {\n",
       "        vertical-align: middle;\n",
       "    }\n",
       "\n",
       "    .dataframe tbody tr th {\n",
       "        vertical-align: top;\n",
       "    }\n",
       "\n",
       "    .dataframe thead th {\n",
       "        text-align: right;\n",
       "    }\n",
       "</style>\n",
       "<table border=\"1\" class=\"dataframe\">\n",
       "  <thead>\n",
       "    <tr style=\"text-align: right;\">\n",
       "      <th></th>\n",
       "      <th>id</th>\n",
       "      <th>name</th>\n",
       "      <th>site_buy</th>\n",
       "      <th>date</th>\n",
       "      <th>town</th>\n",
       "      <th>price</th>\n",
       "      <th>age</th>\n",
       "      <th>img_url</th>\n",
       "      <th>content</th>\n",
       "      <th>id_cultural</th>\n",
       "    </tr>\n",
       "  </thead>\n",
       "  <tbody>\n",
       "    <tr>\n",
       "      <th>0</th>\n",
       "      <td>0</td>\n",
       "      <td>Выставка «Разрезая стены»</td>\n",
       "      <td>NaN</td>\n",
       "      <td>30 апреля 2020</td>\n",
       "      <td>Москва</td>\n",
       "      <td>NaN</td>\n",
       "      <td>12+</td>\n",
       "      <td>https://www.2do2go.ru/uploads/902931e92d016695...</td>\n",
       "      <td>Персональная выставка Игоря Поносова «Разрезая...</td>\n",
       "      <td>0</td>\n",
       "    </tr>\n",
       "    <tr>\n",
       "      <th>1</th>\n",
       "      <td>1</td>\n",
       "      <td>Выставка «Живопись минус»</td>\n",
       "      <td>https://fabrika-events.timepad.ru/event/1266160/</td>\n",
       "      <td>29 марта 2020</td>\n",
       "      <td>Москва</td>\n",
       "      <td>NaN</td>\n",
       "      <td>6+</td>\n",
       "      <td>https://www.2do2go.ru/uploads/735a328ea3340c62...</td>\n",
       "      <td>Марат Гельман снова обращает внимание на бывшу...</td>\n",
       "      <td>0</td>\n",
       "    </tr>\n",
       "    <tr>\n",
       "      <th>2</th>\n",
       "      <td>2</td>\n",
       "      <td>День рождения «Фабрики»</td>\n",
       "      <td>NaN</td>\n",
       "      <td>31 января 2020</td>\n",
       "      <td>Москва</td>\n",
       "      <td>NaN</td>\n",
       "      <td>0+</td>\n",
       "      <td>https://www.2do2go.ru/uploads/1a65dc11254622df...</td>\n",
       "      <td>Праздник начнется с открытия новых выставок: в...</td>\n",
       "      <td>0</td>\n",
       "    </tr>\n",
       "    <tr>\n",
       "      <th>3</th>\n",
       "      <td>3</td>\n",
       "      <td>Выставка «Скрытый контент»</td>\n",
       "      <td>NaN</td>\n",
       "      <td>19 января 2020</td>\n",
       "      <td>Москва</td>\n",
       "      <td>NaN</td>\n",
       "      <td>16+</td>\n",
       "      <td>https://www.2do2go.ru/uploads/a04f6b92d240df15...</td>\n",
       "      <td>Конец года – традиционное время подведения ито...</td>\n",
       "      <td>0</td>\n",
       "    </tr>\n",
       "    <tr>\n",
       "      <th>4</th>\n",
       "      <td>4</td>\n",
       "      <td>Выставка «Дым и шоколад»</td>\n",
       "      <td>https://fabrika-events.timepad.ru/event/1211968/</td>\n",
       "      <td>8 января 2020</td>\n",
       "      <td>Москва</td>\n",
       "      <td>NaN</td>\n",
       "      <td>6+</td>\n",
       "      <td>https://www.2do2go.ru/uploads/6e24684c7badaa9a...</td>\n",
       "      <td>В 2018 году группа «Войти и разрешить» приняла...</td>\n",
       "      <td>0</td>\n",
       "    </tr>\n",
       "  </tbody>\n",
       "</table>\n",
       "</div>"
      ],
      "text/plain": [
       "   id                        name  \\\n",
       "0   0   Выставка «Разрезая стены»   \n",
       "1   1   Выставка «Живопись минус»   \n",
       "2   2     День рождения «Фабрики»   \n",
       "3   3  Выставка «Скрытый контент»   \n",
       "4   4    Выставка «Дым и шоколад»   \n",
       "\n",
       "                                           site_buy            date    town  \\\n",
       "0                                               NaN  30 апреля 2020  Москва   \n",
       "1  https://fabrika-events.timepad.ru/event/1266160/   29 марта 2020  Москва   \n",
       "2                                               NaN  31 января 2020  Москва   \n",
       "3                                               NaN  19 января 2020  Москва   \n",
       "4  https://fabrika-events.timepad.ru/event/1211968/   8 января 2020  Москва   \n",
       "\n",
       "  price  age                                            img_url  \\\n",
       "0   NaN  12+  https://www.2do2go.ru/uploads/902931e92d016695...   \n",
       "1   NaN   6+  https://www.2do2go.ru/uploads/735a328ea3340c62...   \n",
       "2   NaN   0+  https://www.2do2go.ru/uploads/1a65dc11254622df...   \n",
       "3   NaN  16+  https://www.2do2go.ru/uploads/a04f6b92d240df15...   \n",
       "4   NaN   6+  https://www.2do2go.ru/uploads/6e24684c7badaa9a...   \n",
       "\n",
       "                                             content  id_cultural  \n",
       "0  Персональная выставка Игоря Поносова «Разрезая...            0  \n",
       "1  Марат Гельман снова обращает внимание на бывшу...            0  \n",
       "2  Праздник начнется с открытия новых выставок: в...            0  \n",
       "3  Конец года – традиционное время подведения ито...            0  \n",
       "4  В 2018 году группа «Войти и разрешить» приняла...            0  "
      ]
     },
     "execution_count": 7,
     "metadata": {},
     "output_type": "execute_result"
    }
   ],
   "source": [
    "df.head()"
   ]
  },
  {
   "cell_type": "code",
   "execution_count": 8,
   "metadata": {},
   "outputs": [
    {
     "data": {
      "text/plain": [
       "array(['Москва', 'Санкт-Петербург', 'Калуга', 'Белгород'], dtype=object)"
      ]
     },
     "execution_count": 8,
     "metadata": {},
     "output_type": "execute_result"
    }
   ],
   "source": [
    "df.town.unique()"
   ]
  },
  {
   "cell_type": "code",
   "execution_count": null,
   "metadata": {},
   "outputs": [],
   "source": []
  }
 ],
 "metadata": {
  "kernelspec": {
   "display_name": "Python 3",
   "language": "python",
   "name": "python3"
  },
  "language_info": {
   "codemirror_mode": {
    "name": "ipython",
    "version": 3
   },
   "file_extension": ".py",
   "mimetype": "text/x-python",
   "name": "python",
   "nbconvert_exporter": "python",
   "pygments_lexer": "ipython3",
   "version": "3.7.3"
  }
 },
 "nbformat": 4,
 "nbformat_minor": 2
}
