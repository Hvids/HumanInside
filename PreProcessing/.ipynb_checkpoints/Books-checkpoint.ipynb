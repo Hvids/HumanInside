{
 "cells": [
  {
   "cell_type": "code",
   "execution_count": 1,
   "metadata": {},
   "outputs": [],
   "source": [
    "import sys\n",
    "sys.path.append('./')"
   ]
  },
  {
   "cell_type": "code",
   "execution_count": 2,
   "metadata": {},
   "outputs": [],
   "source": [
    "from PreProcessing import PreProcessingGenre, PreProcessingContent"
   ]
  },
  {
   "cell_type": "code",
   "execution_count": 3,
   "metadata": {},
   "outputs": [],
   "source": [
    "import pandas as pd\n"
   ]
  },
  {
   "cell_type": "code",
   "execution_count": 4,
   "metadata": {},
   "outputs": [],
   "source": [
    "path = '../data/csv/'\n",
    "name = 'books.csv'\n",
    "full_name = path+ name"
   ]
  },
  {
   "cell_type": "code",
   "execution_count": 5,
   "metadata": {},
   "outputs": [],
   "source": [
    "df_books = pd.read_csv(full_name)"
   ]
  },
  {
   "cell_type": "code",
   "execution_count": 6,
   "metadata": {},
   "outputs": [
    {
     "name": "stdout",
     "output_type": "stream",
     "text": [
      "<class 'pandas.core.frame.DataFrame'>\n",
      "RangeIndex: 1000 entries, 0 to 999\n",
      "Data columns (total 10 columns):\n",
      "id            1000 non-null int64\n",
      "name          1000 non-null object\n",
      "author        1000 non-null object\n",
      "genre         1000 non-null object\n",
      "seria         796 non-null object\n",
      "rating        1000 non-null float64\n",
      "count_page    1000 non-null int64\n",
      "language      1000 non-null object\n",
      "content       486 non-null object\n",
      "img_url       1000 non-null object\n",
      "dtypes: float64(1), int64(2), object(7)\n",
      "memory usage: 78.2+ KB\n"
     ]
    }
   ],
   "source": [
    "df_books.info()"
   ]
  },
  {
   "cell_type": "code",
   "execution_count": 7,
   "metadata": {},
   "outputs": [
    {
     "data": {
      "text/html": [
       "<div>\n",
       "<style scoped>\n",
       "    .dataframe tbody tr th:only-of-type {\n",
       "        vertical-align: middle;\n",
       "    }\n",
       "\n",
       "    .dataframe tbody tr th {\n",
       "        vertical-align: top;\n",
       "    }\n",
       "\n",
       "    .dataframe thead th {\n",
       "        text-align: right;\n",
       "    }\n",
       "</style>\n",
       "<table border=\"1\" class=\"dataframe\">\n",
       "  <thead>\n",
       "    <tr style=\"text-align: right;\">\n",
       "      <th></th>\n",
       "      <th>id</th>\n",
       "      <th>name</th>\n",
       "      <th>author</th>\n",
       "      <th>genre</th>\n",
       "      <th>seria</th>\n",
       "      <th>rating</th>\n",
       "      <th>count_page</th>\n",
       "      <th>language</th>\n",
       "      <th>content</th>\n",
       "      <th>img_url</th>\n",
       "    </tr>\n",
       "  </thead>\n",
       "  <tbody>\n",
       "    <tr>\n",
       "      <th>0</th>\n",
       "      <td>0</td>\n",
       "      <td>Диетологи, я вам не верю! Книга-разоблачение</td>\n",
       "      <td>Воронин Андрей</td>\n",
       "      <td>Медицина и здоровье</td>\n",
       "      <td>NaN</td>\n",
       "      <td>9.95</td>\n",
       "      <td>3</td>\n",
       "      <td>Русский</td>\n",
       "      <td>Прочитай и похудей. И узнай, что реклама е...</td>\n",
       "      <td>https://www.litmir.me/data/Book/0/684000/68414...</td>\n",
       "    </tr>\n",
       "    <tr>\n",
       "      <th>1</th>\n",
       "      <td>1</td>\n",
       "      <td>Гарри Поттер и Кубок огня</td>\n",
       "      <td>Роулинг Джоан Кэтлин</td>\n",
       "      <td>Зарубежное фэнтези Фэнтези</td>\n",
       "      <td>Гарри Поттер #4</td>\n",
       "      <td>9.75</td>\n",
       "      <td>14</td>\n",
       "      <td>Русский</td>\n",
       "      <td>Гарри Поттеру предстоит четвёртый год обучени...</td>\n",
       "      <td>https://www.litmir.me/data/Book/0/164000/16471...</td>\n",
       "    </tr>\n",
       "    <tr>\n",
       "      <th>2</th>\n",
       "      <td>2</td>\n",
       "      <td>Гарри Поттер и узник Азкабана</td>\n",
       "      <td>Роулинг Джоан Кэтлин</td>\n",
       "      <td>Зарубежное фэнтези Фэнтези</td>\n",
       "      <td>Гарри Поттер #3</td>\n",
       "      <td>9.74</td>\n",
       "      <td>8</td>\n",
       "      <td>Русский</td>\n",
       "      <td>Двенадцать долгих лет в Азкабане - мрачной тюр...</td>\n",
       "      <td>https://www.litmir.me/data/Book/0/37000/37514/...</td>\n",
       "    </tr>\n",
       "    <tr>\n",
       "      <th>3</th>\n",
       "      <td>3</td>\n",
       "      <td>В списках не значился</td>\n",
       "      <td>Васильев Борис Львович</td>\n",
       "      <td>Книги о войне Классическая литература</td>\n",
       "      <td>NaN</td>\n",
       "      <td>9.73</td>\n",
       "      <td>13</td>\n",
       "      <td>Русский</td>\n",
       "      <td>На крайнем западе нашей страны стоит Брестская...</td>\n",
       "      <td>https://www.litmir.me/data/Book/0/29000/29094/...</td>\n",
       "    </tr>\n",
       "    <tr>\n",
       "      <th>4</th>\n",
       "      <td>4</td>\n",
       "      <td>Гарри Поттер и философский камень</td>\n",
       "      <td>Роулинг Джоан Кэтлин</td>\n",
       "      <td>Зарубежное фэнтези Фэнтези</td>\n",
       "      <td>Гарри Поттер #1</td>\n",
       "      <td>9.73</td>\n",
       "      <td>6</td>\n",
       "      <td>Русский</td>\n",
       "      <td>Одиннадцатилетний мальчик-сирота Гарри Поттер...</td>\n",
       "      <td>https://www.litmir.me/data/Book/0/140000/14073...</td>\n",
       "    </tr>\n",
       "  </tbody>\n",
       "</table>\n",
       "</div>"
      ],
      "text/plain": [
       "   id                                          name                  author  \\\n",
       "0   0  Диетологи, я вам не верю! Книга-разоблачение          Воронин Андрей   \n",
       "1   1                     Гарри Поттер и Кубок огня    Роулинг Джоан Кэтлин   \n",
       "2   2                 Гарри Поттер и узник Азкабана    Роулинг Джоан Кэтлин   \n",
       "3   3                         В списках не значился  Васильев Борис Львович   \n",
       "4   4             Гарри Поттер и философский камень    Роулинг Джоан Кэтлин   \n",
       "\n",
       "                                   genre            seria  rating  count_page  \\\n",
       "0                    Медицина и здоровье              NaN    9.95           3   \n",
       "1             Зарубежное фэнтези Фэнтези  Гарри Поттер #4    9.75          14   \n",
       "2             Зарубежное фэнтези Фэнтези  Гарри Поттер #3    9.74           8   \n",
       "3  Книги о войне Классическая литература              NaN    9.73          13   \n",
       "4             Зарубежное фэнтези Фэнтези  Гарри Поттер #1    9.73           6   \n",
       "\n",
       "  language                                            content  \\\n",
       "0  Русский      Прочитай и похудей. И узнай, что реклама е...   \n",
       "1  Русский   Гарри Поттеру предстоит четвёртый год обучени...   \n",
       "2  Русский  Двенадцать долгих лет в Азкабане - мрачной тюр...   \n",
       "3  Русский  На крайнем западе нашей страны стоит Брестская...   \n",
       "4  Русский   Одиннадцатилетний мальчик-сирота Гарри Поттер...   \n",
       "\n",
       "                                             img_url  \n",
       "0  https://www.litmir.me/data/Book/0/684000/68414...  \n",
       "1  https://www.litmir.me/data/Book/0/164000/16471...  \n",
       "2  https://www.litmir.me/data/Book/0/37000/37514/...  \n",
       "3  https://www.litmir.me/data/Book/0/29000/29094/...  \n",
       "4  https://www.litmir.me/data/Book/0/140000/14073...  "
      ]
     },
     "execution_count": 7,
     "metadata": {},
     "output_type": "execute_result"
    }
   ],
   "source": [
    "df_books.head()"
   ]
  },
  {
   "cell_type": "code",
   "execution_count": 8,
   "metadata": {},
   "outputs": [],
   "source": [
    "content = df_books.content"
   ]
  },
  {
   "cell_type": "code",
   "execution_count": 9,
   "metadata": {},
   "outputs": [],
   "source": [
    "content = content.fillna('')"
   ]
  },
  {
   "cell_type": "code",
   "execution_count": 10,
   "metadata": {},
   "outputs": [
    {
     "name": "stderr",
     "output_type": "stream",
     "text": [
      "PreProcessingContent: 100%|██████████| 1000/1000 [10:06<00:00,  1.65it/s]\n"
     ]
    }
   ],
   "source": [
    "preprocessing_content = PreProcessingContent(content)\n",
    "content = preprocessing_content.make()"
   ]
  },
  {
   "cell_type": "code",
   "execution_count": 12,
   "metadata": {},
   "outputs": [],
   "source": [
    "sent = [row.split() for row in content]"
   ]
  },
  {
   "cell_type": "code",
   "execution_count": 14,
   "metadata": {},
   "outputs": [],
   "source": [
    "from gensim.models.phrases import Phrases, Phraser"
   ]
  },
  {
   "cell_type": "code",
   "execution_count": 48,
   "metadata": {},
   "outputs": [],
   "source": [
    "phrases = Phrases(sentences, min_count=30, progress_per=10000)\n",
    "bigram = Phraser(phrases)"
   ]
  },
  {
   "cell_type": "code",
   "execution_count": 49,
   "metadata": {},
   "outputs": [],
   "source": [
    "sentences = bigram[sent]"
   ]
  },
  {
   "cell_type": "code",
   "execution_count": 51,
   "metadata": {},
   "outputs": [
    {
     "data": {
      "text/plain": [
       "7445"
      ]
     },
     "execution_count": 51,
     "metadata": {},
     "output_type": "execute_result"
    }
   ],
   "source": [
    "from collections import defaultdict\n",
    "word_freq = defaultdict(int)\n",
    "for sent in sentences:\n",
    "    for i in sent:\n",
    "        word_freq[i] += 1\n",
    "len(word_freq)"
   ]
  },
  {
   "cell_type": "code",
   "execution_count": 53,
   "metadata": {},
   "outputs": [
    {
     "data": {
      "text/plain": [
       "['–', '«', '…', '—', '»', 'который', 'свой', 'мир', 'это', 'весь']"
      ]
     },
     "execution_count": 53,
     "metadata": {},
     "output_type": "execute_result"
    }
   ],
   "source": [
    "sorted(word_freq, key=word_freq.get, reverse=True)[:10]"
   ]
  },
  {
   "cell_type": "code",
   "execution_count": 54,
   "metadata": {},
   "outputs": [],
   "source": [
    "import multiprocessing\n",
    "\n",
    "from gensim.models import Word2Vec"
   ]
  },
  {
   "cell_type": "code",
   "execution_count": 55,
   "metadata": {},
   "outputs": [
    {
     "data": {
      "text/plain": [
       "2"
      ]
     },
     "execution_count": 55,
     "metadata": {},
     "output_type": "execute_result"
    }
   ],
   "source": [
    "cores = multiprocessing.cpu_count()\n",
    "cores"
   ]
  },
  {
   "cell_type": "code",
   "execution_count": 59,
   "metadata": {},
   "outputs": [],
   "source": [
    "w2v_model = Word2Vec(min_count=20,\n",
    "                     window=2,\n",
    "                     size=300,\n",
    "                     sample=6e-5, \n",
    "                     alpha=0.03, \n",
    "                     min_alpha=0.0007, \n",
    "                     negative=20,\n",
    "                     workers=cores-1)"
   ]
  },
  {
   "cell_type": "code",
   "execution_count": 60,
   "metadata": {},
   "outputs": [],
   "source": [
    "w2v_model.build_vocab(sentences, progress_per=10000)"
   ]
  },
  {
   "cell_type": "code",
   "execution_count": 61,
   "metadata": {},
   "outputs": [
    {
     "data": {
      "text/plain": [
       "(37399, 870510)"
      ]
     },
     "execution_count": 61,
     "metadata": {},
     "output_type": "execute_result"
    }
   ],
   "source": [
    "w2v_model.train(sentences, total_examples=w2v_model.corpus_count, epochs=30, report_delay=1)"
   ]
  },
  {
   "cell_type": "code",
   "execution_count": 62,
   "metadata": {},
   "outputs": [
    {
     "data": {
      "text/plain": [
       "array([ 1.01502184e-02, -7.04615936e-02, -7.55130425e-02, -1.23918787e-01,\n",
       "        7.88013563e-02, -8.04016665e-02, -1.23443335e-01, -5.05903549e-02,\n",
       "        5.93547001e-02,  1.63471396e-03,  1.21455722e-01, -1.12807840e-01,\n",
       "        5.67832179e-02,  1.19112983e-01, -4.62936759e-02, -1.17130443e-01,\n",
       "        9.91824940e-02,  1.52421489e-01,  5.00589609e-02, -6.46059960e-02,\n",
       "        7.32924268e-02, -9.05788243e-02, -7.21229091e-02, -7.09524527e-02,\n",
       "       -1.60857230e-01,  1.00420811e-03, -1.29230008e-01,  3.19703706e-02,\n",
       "        4.69489880e-02, -1.04724720e-01, -6.74130395e-02,  1.54002681e-01,\n",
       "       -3.00719291e-02, -2.45767995e-04, -1.09761223e-01,  1.02888897e-01,\n",
       "        1.06530607e-01,  1.83436498e-01,  2.06099749e-01, -2.36902997e-01,\n",
       "       -7.50756031e-03,  9.38648060e-02, -2.68612534e-01, -8.66859313e-03,\n",
       "        8.83738250e-02,  8.58183280e-02, -1.59664616e-01,  1.20072357e-01,\n",
       "        2.94715852e-01,  1.51956007e-01,  5.13744587e-03, -1.64731041e-01,\n",
       "        2.15383187e-01, -4.32359101e-03, -8.30535814e-02,  3.35324579e-03,\n",
       "        2.21022502e-01,  3.50864269e-02,  5.85004576e-02,  3.43638361e-02,\n",
       "       -1.75383699e-03,  7.16060698e-02, -5.98657951e-02,  7.64158219e-02,\n",
       "        2.27230582e-02,  1.77040592e-01,  1.22769251e-01, -2.62942482e-02,\n",
       "        1.40944734e-01, -1.39721474e-02, -9.12480652e-02,  2.64674462e-02,\n",
       "       -5.99681959e-02,  7.13692699e-03,  1.58671841e-01,  8.59073773e-02,\n",
       "        1.15894536e-02,  7.20288279e-03,  8.75238143e-03, -3.07781491e-02,\n",
       "       -1.45692453e-02,  9.84488651e-02,  1.46006256e-01, -1.64078340e-01,\n",
       "       -6.21052980e-02, -3.86570320e-02, -2.81826407e-02,  8.50395486e-02,\n",
       "       -9.60149020e-02,  2.18989491e-01, -1.23978712e-01,  8.16646740e-02,\n",
       "        1.46565847e-02,  6.92144856e-02, -9.93249267e-02, -7.41760805e-02,\n",
       "       -1.49407675e-02,  2.42102848e-04,  1.33456558e-01,  2.15976331e-02,\n",
       "       -1.13642216e-01, -6.37947768e-02,  1.57953396e-01, -1.36143174e-02,\n",
       "       -1.46265551e-02,  1.69132710e-01,  6.07701018e-02, -1.09071501e-01,\n",
       "       -4.13839743e-02, -4.26234975e-02, -1.55374389e-02,  7.05340058e-02,\n",
       "        8.68669003e-02, -6.38275892e-02, -1.40369087e-01, -1.20641142e-01,\n",
       "       -1.17613375e-01, -3.28520924e-01, -3.94800641e-02, -3.75391208e-02,\n",
       "        7.10585862e-02,  6.30667526e-03, -7.78844357e-02, -7.54890218e-02,\n",
       "        1.90334246e-01, -9.21465307e-02, -1.23220935e-01,  1.68146286e-02,\n",
       "        1.53682053e-01,  1.22161292e-01,  9.50950757e-02, -4.04310599e-02,\n",
       "       -1.63278922e-01, -1.63812637e-01, -1.42804934e-02,  1.06029041e-01,\n",
       "       -7.90682212e-02, -6.26541153e-02,  4.60478477e-02, -1.42851891e-02,\n",
       "       -3.13833244e-02,  1.82213094e-02, -7.76312873e-02,  3.63536105e-02,\n",
       "        9.27641839e-02,  2.61968337e-02,  1.25671238e-01,  1.57544389e-02,\n",
       "       -2.60744810e-01,  1.24896146e-01,  2.20480934e-02, -2.30757818e-01,\n",
       "        4.45534103e-02, -1.75803527e-01,  6.59992695e-02, -2.66811810e-02,\n",
       "        2.52051577e-02,  2.25882202e-01, -2.78591551e-03,  5.26799634e-02,\n",
       "       -1.14863746e-01,  2.92419791e-02, -8.15212876e-02,  2.12060437e-01,\n",
       "        1.19970895e-01,  3.68770733e-02, -6.75405934e-02, -2.66845971e-02,\n",
       "        1.13488678e-02, -7.55338296e-02, -5.24105392e-02, -6.68715015e-02,\n",
       "       -1.01450689e-01, -8.55525360e-02, -1.25059873e-01, -3.30389803e-03,\n",
       "        9.79429185e-02,  1.55616581e-01, -1.78866982e-01, -4.10195701e-02,\n",
       "        2.55328089e-01, -5.00260554e-02, -1.34457782e-01, -2.11107597e-01,\n",
       "       -8.39704573e-02, -4.74912450e-02, -3.42517756e-02,  1.83476999e-01,\n",
       "       -9.90514159e-02,  1.15532830e-01, -8.90283883e-02, -6.07552230e-02,\n",
       "        1.12085722e-01, -1.45641804e-01,  1.75127387e-01,  9.04640928e-02,\n",
       "        3.43721993e-02, -9.46068764e-02, -2.77238688e-03,  1.70185506e-01,\n",
       "       -1.14818721e-03,  2.06495672e-01,  1.54051140e-01,  5.21770259e-03,\n",
       "        1.26810715e-01,  7.31530041e-02, -5.03249913e-02, -2.95264125e-01,\n",
       "        8.24312586e-03, -5.44007123e-02,  4.97119501e-02, -8.85223076e-02,\n",
       "       -1.43127784e-01,  1.13805152e-01, -1.88924715e-01,  1.70099642e-02,\n",
       "        1.00209378e-01,  2.50618905e-01, -1.45116244e-02, -2.20612466e-01,\n",
       "        1.95456110e-02, -2.21687019e-01, -9.94386002e-02,  1.03003077e-01,\n",
       "       -2.15382827e-03, -1.04533173e-01, -1.28959611e-01,  1.61655515e-01,\n",
       "        1.17747551e-02,  1.46295115e-01, -8.61877277e-02,  1.55204520e-01,\n",
       "       -6.09835945e-02, -4.25882600e-02,  5.71687184e-02, -5.59288561e-02,\n",
       "       -2.08930776e-01, -1.39250040e-01, -4.94687222e-02, -1.03977527e-02,\n",
       "       -1.75152913e-01, -3.03380173e-02,  2.57609021e-02,  3.33725773e-02,\n",
       "        1.37492612e-01,  3.09374481e-01, -1.54565662e-01,  2.52942294e-01,\n",
       "       -1.74816195e-02, -9.31350440e-02, -1.72091201e-01,  3.20063740e-01,\n",
       "       -1.29220754e-01, -8.51698313e-03,  1.87176671e-02, -8.72964039e-03,\n",
       "       -3.99269536e-02,  6.73553348e-02, -1.74710199e-01,  1.84293479e-01,\n",
       "       -6.22508265e-02, -1.64952222e-02, -3.77934538e-02, -1.58050433e-01,\n",
       "       -7.83075765e-03, -1.97209984e-01,  1.29317462e-01,  2.94304732e-02,\n",
       "        5.12452200e-02,  5.88092990e-02,  1.82858817e-02, -6.55463785e-02,\n",
       "       -1.75927520e-01,  5.37540242e-02, -5.62439673e-02,  6.16170987e-02,\n",
       "       -2.24145159e-01,  6.50399253e-02, -6.88121766e-02, -1.32059902e-01,\n",
       "        9.72020552e-02,  7.01088756e-02, -2.05872711e-02, -9.93008688e-02,\n",
       "       -9.31941718e-02,  2.82254629e-02, -1.33422464e-01, -1.91972151e-01,\n",
       "        1.27163813e-01, -1.06958583e-01, -9.39958319e-02,  7.80903921e-03,\n",
       "       -6.11948706e-02, -5.01575731e-02,  1.42628893e-01,  4.19457033e-02,\n",
       "        1.18665650e-01, -1.20240822e-01,  4.26758863e-02, -3.55038792e-02],\n",
       "      dtype=float32)"
      ]
     },
     "execution_count": 62,
     "metadata": {},
     "output_type": "execute_result"
    }
   ],
   "source": [
    "w2v_model.wv['который']"
   ]
  },
  {
   "cell_type": "code",
   "execution_count": null,
   "metadata": {},
   "outputs": [],
   "source": []
  }
 ],
 "metadata": {
  "kernelspec": {
   "display_name": "Python 3",
   "language": "python",
   "name": "python3"
  },
  "language_info": {
   "codemirror_mode": {
    "name": "ipython",
    "version": 3
   },
   "file_extension": ".py",
   "mimetype": "text/x-python",
   "name": "python",
   "nbconvert_exporter": "python",
   "pygments_lexer": "ipython3",
   "version": "3.7.3"
  }
 },
 "nbformat": 4,
 "nbformat_minor": 2
}
