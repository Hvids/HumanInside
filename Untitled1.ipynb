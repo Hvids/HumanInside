{
 "cells": [
  {
   "cell_type": "code",
   "execution_count": 34,
   "metadata": {},
   "outputs": [],
   "source": [
    "import sys\n",
    "import  pandas as pd\n",
    "\n",
    "path_pd_ev = './data/csv/events.csv'\n",
    "path_pd_cc = './data/csv/cultural_centers.csv'\n",
    "\n",
    "path_img_cultural_center = './data/img/cultural_centers/'\n",
    "path_img_event = './data/img/events/'\n",
    "\n",
    "data_ev = pd.read_csv(path_pd_ev)\n",
    "data_cc = pd.read_csv(path_pd_cc)"
   ]
  },
  {
   "cell_type": "code",
   "execution_count": 39,
   "metadata": {},
   "outputs": [
    {
     "name": "stdout",
     "output_type": "stream",
     "text": [
      "<class 'pandas.core.frame.DataFrame'>\n",
      "RangeIndex: 836 entries, 0 to 835\n",
      "Data columns (total 10 columns):\n",
      "town           836 non-null object\n",
      "price          361 non-null object\n",
      "age            836 non-null object\n",
      "site_buy       152 non-null object\n",
      "date           826 non-null object\n",
      "id             836 non-null int64\n",
      "id_cultural    836 non-null int64\n",
      "name           836 non-null object\n",
      "img_url        836 non-null object\n",
      "content        506 non-null object\n",
      "dtypes: int64(2), object(8)\n",
      "memory usage: 65.4+ KB\n"
     ]
    }
   ],
   "source": [
    "data_ev.info()"
   ]
  },
  {
   "cell_type": "code",
   "execution_count": 40,
   "metadata": {},
   "outputs": [
    {
     "name": "stdout",
     "output_type": "stream",
     "text": [
      "<class 'pandas.core.frame.DataFrame'>\n",
      "RangeIndex: 284 entries, 0 to 283\n",
      "Data columns (total 12 columns):\n",
      "adress            283 non-null object\n",
      "number            248 non-null object\n",
      "email             191 non-null object\n",
      "social_netwoks    179 non-null object\n",
      "undegroud         271 non-null object\n",
      "latitude          0 non-null float64\n",
      "logitute          0 non-null float64\n",
      "offical_site      230 non-null object\n",
      "id                284 non-null int64\n",
      "name              283 non-null object\n",
      "img_url           284 non-null object\n",
      "content           246 non-null object\n",
      "dtypes: float64(2), int64(1), object(9)\n",
      "memory usage: 26.7+ KB\n"
     ]
    }
   ],
   "source": [
    "data_cc.info()\n",
    "    "
   ]
  },
  {
   "cell_type": "code",
   "execution_count": null,
   "metadata": {},
   "outputs": [],
   "source": []
  }
 ],
 "metadata": {
  "kernelspec": {
   "display_name": "Python 3",
   "language": "python",
   "name": "python3"
  },
  "language_info": {
   "codemirror_mode": {
    "name": "ipython",
    "version": 3
   },
   "file_extension": ".py",
   "mimetype": "text/x-python",
   "name": "python",
   "nbconvert_exporter": "python",
   "pygments_lexer": "ipython3",
   "version": "3.7.3"
  }
 },
 "nbformat": 4,
 "nbformat_minor": 2
}
