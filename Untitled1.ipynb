{
 "cells": [
  {
   "cell_type": "code",
   "execution_count": 1,
   "metadata": {},
   "outputs": [],
   "source": [
    "import sys\n",
    "import  pandas as pd\n",
    "\n",
    "path_pd_ev = './data/csv/events.csv'\n",
    "path_pd_cc = './data/csv/cultural_centers.csv'\n",
    "\n",
    "path_img_cultural_center = './data/img/cultural_centers/'\n",
    "path_img_event = './data/img/events/'\n",
    "\n",
    "data_ev = pd.read_csv(path_pd_ev)\n",
    "data_cc = pd.read_csv(path_pd_cc)"
   ]
  },
  {
   "cell_type": "code",
   "execution_count": 2,
   "metadata": {},
   "outputs": [
    {
     "name": "stdout",
     "output_type": "stream",
     "text": [
      "<class 'pandas.core.frame.DataFrame'>\n",
      "RangeIndex: 836 entries, 0 to 835\n",
      "Data columns (total 10 columns):\n",
      "id             836 non-null int64\n",
      "name           836 non-null object\n",
      "site_buy       152 non-null object\n",
      "date           826 non-null object\n",
      "town           836 non-null object\n",
      "price          361 non-null object\n",
      "age            836 non-null object\n",
      "img_url        836 non-null object\n",
      "content        506 non-null object\n",
      "id_cultural    836 non-null int64\n",
      "dtypes: int64(2), object(8)\n",
      "memory usage: 65.4+ KB\n"
     ]
    }
   ],
   "source": [
    "data_ev.info()"
   ]
  },
  {
   "cell_type": "code",
   "execution_count": 3,
   "metadata": {},
   "outputs": [
    {
     "name": "stdout",
     "output_type": "stream",
     "text": [
      "<class 'pandas.core.frame.DataFrame'>\n",
      "RangeIndex: 284 entries, 0 to 283\n",
      "Data columns (total 12 columns):\n",
      "adress            283 non-null object\n",
      "number            248 non-null object\n",
      "email             191 non-null object\n",
      "social_netwoks    179 non-null object\n",
      "undegroud         271 non-null object\n",
      "latitude          0 non-null float64\n",
      "logitute          0 non-null float64\n",
      "offical_site      230 non-null object\n",
      "id                284 non-null int64\n",
      "name              283 non-null object\n",
      "img_url           284 non-null object\n",
      "content           246 non-null object\n",
      "dtypes: float64(2), int64(1), object(9)\n",
      "memory usage: 26.7+ KB\n"
     ]
    }
   ],
   "source": [
    "data_cc.info()"
   ]
  },
  {
   "cell_type": "code",
   "execution_count": null,
   "metadata": {},
   "outputs": [],
   "source": [
    "data_cc.info()\n",
    "    "
   ]
  },
  {
   "cell_type": "code",
   "execution_count": null,
   "metadata": {},
   "outputs": [],
   "source": [
    "import requests\n",
    "import re\n",
    "def get_geo_by_adress(adress):\n",
    "    gm = 'https://www.google.com/maps/search/' + adress\n",
    "    reg = r'<meta content=\"https://maps.google.com/maps/api/staticmap\\?center=(.*?)&amp;zoom'\n",
    "    text = requests.get(gm).text\n",
    "    sub_geo = re.findall(reg, text)\n",
    "    if len(sub_geo) > 0:\n",
    "        sub_geo = sub_geo[0]\n",
    "        reg_split = r'%2C'\n",
    "        lat, long = tuple(re.split(reg_split, sub_geo))\n",
    "        return lat, long\n",
    "    else:\n",
    "        return '', ''\n",
    "lats = []\n",
    "longs []\n",
    "for i,row in data_cc.iterrows():\n",
    "    if pd.isna(row.latitude):\n",
    "        lat, long = get_geo_by_adress(row.adress)\n",
    "        lats.append(lat)\n",
    "\n",
    "        break\n",
    "data_cc.head()"
   ]
  },
  {
   "cell_type": "code",
   "execution_count": null,
   "metadata": {},
   "outputs": [],
   "source": []
  }
 ],
 "metadata": {
  "kernelspec": {
   "display_name": "Python 3",
   "language": "python",
   "name": "python3"
  },
  "language_info": {
   "codemirror_mode": {
    "name": "ipython",
    "version": 3
   },
   "file_extension": ".py",
   "mimetype": "text/x-python",
   "name": "python",
   "nbconvert_exporter": "python",
   "pygments_lexer": "ipython3",
   "version": "3.7.3"
  }
 },
 "nbformat": 4,
 "nbformat_minor": 2
}
